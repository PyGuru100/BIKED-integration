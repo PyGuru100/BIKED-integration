{
 "cells": [
  {
   "cell_type": "code",
   "execution_count": 24,
   "id": "2c1360c1",
   "metadata": {},
   "outputs": [],
   "source": [
    "import xml.etree.ElementTree as ET \n",
    "import pandas as pd"
   ]
  },
  {
   "cell_type": "code",
   "execution_count": 48,
   "id": "0053df8c",
   "metadata": {},
   "outputs": [
    {
     "name": "stdout",
     "output_type": "stream",
     "text": [
      "{'CS textfield': ' CS Length', 'BB textfield': ' BB Drop', 'Stack': ' Stack', 'Head angle': ' HT Angle', 'Head tube length textfield': ' HT Length', 'Seat stay junction0': ' SS E', 'Seat angle': ' ST Angle', 'DT Length': ' DT Length', 'Seat tube length': ' ST Length', 'BB diameter': ' BB OD', 'ttd': ' TT OD', 'Head tube diameter': ' HT OD', 'dtd': ' DT OD', 'csd': ' CS OD', 'ssd': ' SS OD', 'Seat tube diameter': ' ST OD', 'Wall thickness Bottom Bracket': ' BB Thickness', 'Wall thickness Top tube': ' TT Thickness', 'Wall thickness Head tube': ' HT Thickness', 'Wall thickness Down tube': ' DT Thickness', 'Wall thickness Chain stay': ' CS Thickness', 'Wall thickness Seat stay': ' SS Thickness', 'Wall thickness Seat tube': ' ST Thickness', 'BB length': ' BB Length', 'Chain stay position on BB': ' CS F', 'SSTopZOFFSET': ' SS Z', 'MATERIAL': ' Material', 'Head tube upper extension2': ' HT UX', 'Seat tube extension2': ' ST UX', 'Head tube lower extension2': ' HT LX', 'SEATSTAYbrdgshift': ' SSB Offset', 'CHAINSTAYbrdgshift': ' CSB Offset', 'Dropout spacing': ' Dropout Offset', 'CHAINSTAYbrdgCheck': ' CSB_Include', 'SEATSTAYbrdgCheck': ' SSB_Include', 'SEATSTAYbrdgdia1': ' SSB OD', 'CHAINSTAYbrdgdia1': ' CSB OD'}\n"
     ]
    }
   ],
   "source": [
    "conversiondict = {\n",
    "    \" CS Length\": \"CS textfield\",\n",
    "    \" BB Drop\":\"BB textfield\",\n",
    "    \" Stack\":\"Stack\",\n",
    "    \" HT Angle\":\"Head angle\",\n",
    "    \" HT Length\":\"Head tube length textfield\",\n",
    "    \" SS E\":\"Seat stay junction0\",\n",
    "    \" ST Angle\":\"Seat angle\",\n",
    "    \" DT Length\":\"DT Length\",\n",
    "    \" ST Length\":\"Seat tube length\",\n",
    "    \" BB OD\":\"BB diameter\",\n",
    "    \" TT OD\":\"ttd\",\n",
    "    \" HT OD\":\"Head tube diameter\",\n",
    "    \" DT OD\":\"dtd\",\n",
    "    \" CS OD\":\"csd\",\n",
    "    \" SS OD\":\"ssd\",\n",
    "    \" ST OD\":\"Seat tube diameter\",\n",
    "    \" BB Thickness\":\"Wall thickness Bottom Bracket\",\n",
    "    \" TT Thickness\":\"Wall thickness Top tube\",\n",
    "    \" HT Thickness\":\"Wall thickness Head tube\",\n",
    "    \" DT Thickness\":\"Wall thickness Down tube\",\n",
    "    \" CS Thickness\":\"Wall thickness Chain stay\",\n",
    "    \" SS Thickness\":\"Wall thickness Seat stay\",\n",
    "    \" ST Thickness\":\"Wall thickness Seat tube\",\n",
    "    \" BB Length\":\"BB length\",\n",
    "    \" CS F\":\"Chain stay position on BB\",\n",
    "    \" SS Z\":\"SSTopZOFFSET\",\n",
    "    \" Material\":\"MATERIAL\",\n",
    "    \" HT UX\":\"Head tube upper extension2\",\n",
    "    \" ST UX\":\"Seat tube extension2\",\n",
    "    \" HT LX\":\"Head tube lower extension2\",\n",
    "    \" SSB Offset\":\"SEATSTAYbrdgshift\",\n",
    "    \" CSB Offset\":\"CHAINSTAYbrdgshift\",\n",
    "    \" Dropout Offset\":\"Dropout spacing\",\n",
    "    \" CSB_Include\":\"CHAINSTAYbrdgCheck\",\n",
    "    \" SSB_Include\":\"SEATSTAYbrdgCheck\",\n",
    "    \" SSB OD\":\"SEATSTAYbrdgdia1\",\n",
    "    \" CSB OD\":\"CHAINSTAYbrdgdia1\",\n",
    "}\n",
    "\n",
    "conversiondict = {v: k for k, v in conversiondict.items()}\n",
    "print(conversiondict)"
   ]
  },
  {
   "cell_type": "code",
   "execution_count": 53,
   "id": "b24d0e51",
   "metadata": {},
   "outputs": [
    {
     "data": {
      "text/plain": [
       "{' BB OD': 40.0,\n",
       " ' CS Thickness': 1.2,\n",
       " ' DT Thickness': 0.9,\n",
       " ' SS Z': 7.0,\n",
       " ' HT OD': 45.0,\n",
       " ' HT Angle': 73.0,\n",
       " ' HT UX': 40.0,\n",
       " ' ST Length': 560.0,\n",
       " ' ST Thickness': 0.9,\n",
       " ' SS Thickness': 1.0,\n",
       " ' CS Length': 430.0,\n",
       " ' HT Length': 4007.2,\n",
       " ' ST UX': 28.7,\n",
       " ' HT LX': 50.0,\n",
       " ' BB Length': 68.0,\n",
       " ' TT Thickness': 0.9,\n",
       " ' Dropout Offset': 130.0,\n",
       " ' CS F': 15.0,\n",
       " ' BB Drop': 67.0,\n",
       " ' ST Angle': 72.5,\n",
       " ' Material=Steel': True,\n",
       " ' Material=Aluminum': False,\n",
       " ' Material=Titanium': False,\n",
       " ' CSB_Include': 0,\n",
       " ' SSB_Include': 0,\n",
       " ' CSB_OD': 0.017759,\n",
       " ' SSB_OD': 0.015849}"
      ]
     },
     "execution_count": 53,
     "metadata": {},
     "output_type": "execute_result"
    }
   ],
   "source": [
    "def convert(xmlName):\n",
    "    tree = ET.parse(xmlName) \n",
    "    root = tree.getroot()\n",
    "\n",
    "    tempdf=pd.DataFrame()\n",
    "    resultdict={}\n",
    "    for child in root[1:]:\n",
    "        feature=str(child.attrib)[9:-2]\n",
    "        if child.text==None or len(child.text)<100:\n",
    "            if feature in conversiondict:\n",
    "                try:\n",
    "                    resultdict[conversiondict[feature]] = float(child.text)\n",
    "                except:\n",
    "                    resultdict[conversiondict[feature]] = child.text\n",
    "                    \n",
    "    if resultdict[\" Material\"] not in [\"STEEL\", \"ALUMINUM\", \"TITANIUM\"]:\n",
    "        return None\n",
    "    resultdict[\" Material=Steel\"] = resultdict[\" Material\"] == \"STEEL\"\n",
    "    resultdict[\" Material=Aluminum\"] = resultdict[\" Material\"] == \"ALUMINUM\"\n",
    "    resultdict[\" Material=Titanium\"] = resultdict[\" Material\"] == \"TITANIUM\"\n",
    "    resultdict.pop(\" Material\")\n",
    "    \n",
    "    if \" CSB_Include\" not in resultdict:\n",
    "        resultdict[\" CSB_Include\"] = \"false\"\n",
    "    if \" SSB_Include\" not in resultdict:\n",
    "        resultdict[\" SSB_Include\"] = \"false\"\n",
    "    \n",
    "    if resultdict[\" CSB_Include\"] == \"false\":\n",
    "        resultdict[\" CSB_OD\"] = 0.017759\n",
    "        resultdict[\" CSB_Include\"] = 0\n",
    "    else:\n",
    "        resultdict[\" CSB_Include\"] = 0\n",
    "    if resultdict[\" SSB_Include\"] == \"false\":\n",
    "        resultdict[\" SSB_OD\"] = 0.015849\n",
    "        resultdict[\" SSB_Include\"] = 0\n",
    "    else:\n",
    "        resultdict[\" SSB_Include\"] = 1\n",
    "        \n",
    "    return resultdict\n",
    "convert('Model1.bcad')"
   ]
  },
  {
   "cell_type": "code",
   "execution_count": null,
   "id": "a637f844",
   "metadata": {},
   "outputs": [],
   "source": []
  },
  {
   "cell_type": "code",
   "execution_count": null,
   "id": "34ddcf81",
   "metadata": {},
   "outputs": [],
   "source": []
  }
 ],
 "metadata": {
  "kernelspec": {
   "display_name": "Python 3 (ipykernel)",
   "language": "python",
   "name": "python3"
  },
  "language_info": {
   "codemirror_mode": {
    "name": "ipython",
    "version": 3
   },
   "file_extension": ".py",
   "mimetype": "text/x-python",
   "name": "python",
   "nbconvert_exporter": "python",
   "pygments_lexer": "ipython3",
   "version": "3.10.4"
  }
 },
 "nbformat": 4,
 "nbformat_minor": 5
}
